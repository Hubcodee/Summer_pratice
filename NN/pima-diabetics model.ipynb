{
 "cells": [
  {
   "cell_type": "code",
   "execution_count": 1,
   "metadata": {},
   "outputs": [],
   "source": [
    "import pandas as pd\n",
    "dataset = pd.read_csv(\"pima-indians-diabetes.data.csv\",header=None)"
   ]
  },
  {
   "cell_type": "code",
   "execution_count": 2,
   "metadata": {},
   "outputs": [
    {
     "name": "stdout",
     "output_type": "stream",
     "text": [
      "<class 'pandas.core.frame.DataFrame'>\n",
      "RangeIndex: 768 entries, 0 to 767\n",
      "Data columns (total 9 columns):\n",
      " #   Column  Non-Null Count  Dtype  \n",
      "---  ------  --------------  -----  \n",
      " 0   0       768 non-null    int64  \n",
      " 1   1       768 non-null    int64  \n",
      " 2   2       768 non-null    int64  \n",
      " 3   3       768 non-null    int64  \n",
      " 4   4       768 non-null    int64  \n",
      " 5   5       768 non-null    float64\n",
      " 6   6       768 non-null    float64\n",
      " 7   7       768 non-null    int64  \n",
      " 8   8       768 non-null    int64  \n",
      "dtypes: float64(2), int64(7)\n",
      "memory usage: 54.1 KB\n"
     ]
    }
   ],
   "source": [
    "dataset.info()"
   ]
  },
  {
   "cell_type": "code",
   "execution_count": 3,
   "metadata": {},
   "outputs": [],
   "source": [
    "y = dataset[8]"
   ]
  },
  {
   "cell_type": "code",
   "execution_count": 4,
   "metadata": {},
   "outputs": [],
   "source": [
    "X = dataset[[0,1,2,3,4,5,6,7]]"
   ]
  },
  {
   "cell_type": "code",
   "execution_count": 5,
   "metadata": {},
   "outputs": [
    {
     "data": {
      "text/plain": [
       "(768, 8)"
      ]
     },
     "execution_count": 5,
     "metadata": {},
     "output_type": "execute_result"
    }
   ],
   "source": [
    "X.shape"
   ]
  },
  {
   "cell_type": "code",
   "execution_count": 6,
   "metadata": {},
   "outputs": [],
   "source": [
    "from keras.models import Sequential"
   ]
  },
  {
   "cell_type": "code",
   "execution_count": 7,
   "metadata": {},
   "outputs": [],
   "source": [
    "model = Sequential()"
   ]
  },
  {
   "cell_type": "code",
   "execution_count": 8,
   "metadata": {},
   "outputs": [],
   "source": [
    "from keras.layers import Dense"
   ]
  },
  {
   "cell_type": "code",
   "execution_count": 9,
   "metadata": {},
   "outputs": [],
   "source": [
    "model.add(Dense(units=10,bias_initializer=\"zeros\",kernel_initializer=\"zeros\",activation=\"relu\",input_dim=8))"
   ]
  },
  {
   "cell_type": "code",
   "execution_count": 10,
   "metadata": {},
   "outputs": [
    {
     "name": "stdout",
     "output_type": "stream",
     "text": [
      "Model: \"sequential\"\n",
      "_________________________________________________________________\n",
      "Layer (type)                 Output Shape              Param #   \n",
      "=================================================================\n",
      "dense (Dense)                (None, 10)                90        \n",
      "=================================================================\n",
      "Total params: 90\n",
      "Trainable params: 90\n",
      "Non-trainable params: 0\n",
      "_________________________________________________________________\n"
     ]
    }
   ],
   "source": [
    "model.summary()"
   ]
  },
  {
   "cell_type": "code",
   "execution_count": 11,
   "metadata": {},
   "outputs": [
    {
     "data": {
      "text/plain": [
       "<tensorflow.python.keras.layers.core.Dense at 0x2114045b520>"
      ]
     },
     "execution_count": 11,
     "metadata": {},
     "output_type": "execute_result"
    }
   ],
   "source": [
    "model.get_layer(\"dense\")"
   ]
  },
  {
   "cell_type": "code",
   "execution_count": 12,
   "metadata": {},
   "outputs": [
    {
     "data": {
      "text/plain": [
       "{'name': 'sequential',\n",
       " 'layers': [{'class_name': 'InputLayer',\n",
       "   'config': {'batch_input_shape': (None, 8),\n",
       "    'dtype': 'float32',\n",
       "    'sparse': False,\n",
       "    'ragged': False,\n",
       "    'name': 'dense_input'}},\n",
       "  {'class_name': 'Dense',\n",
       "   'config': {'name': 'dense',\n",
       "    'trainable': True,\n",
       "    'batch_input_shape': (None, 8),\n",
       "    'dtype': 'float32',\n",
       "    'units': 10,\n",
       "    'activation': 'relu',\n",
       "    'use_bias': True,\n",
       "    'kernel_initializer': {'class_name': 'Zeros', 'config': {}},\n",
       "    'bias_initializer': {'class_name': 'Zeros', 'config': {}},\n",
       "    'kernel_regularizer': None,\n",
       "    'bias_regularizer': None,\n",
       "    'activity_regularizer': None,\n",
       "    'kernel_constraint': None,\n",
       "    'bias_constraint': None}}]}"
      ]
     },
     "execution_count": 12,
     "metadata": {},
     "output_type": "execute_result"
    }
   ],
   "source": [
    "model.get_config()"
   ]
  },
  {
   "cell_type": "code",
   "execution_count": 13,
   "metadata": {},
   "outputs": [],
   "source": [
    "model.add(Dense(units=4,bias_initializer=\"zeros\",kernel_initializer=\"zeros\",activation=\"relu\"))"
   ]
  },
  {
   "cell_type": "code",
   "execution_count": 14,
   "metadata": {},
   "outputs": [
    {
     "name": "stdout",
     "output_type": "stream",
     "text": [
      "Model: \"sequential\"\n",
      "_________________________________________________________________\n",
      "Layer (type)                 Output Shape              Param #   \n",
      "=================================================================\n",
      "dense (Dense)                (None, 10)                90        \n",
      "_________________________________________________________________\n",
      "dense_1 (Dense)              (None, 4)                 44        \n",
      "=================================================================\n",
      "Total params: 134\n",
      "Trainable params: 134\n",
      "Non-trainable params: 0\n",
      "_________________________________________________________________\n"
     ]
    }
   ],
   "source": [
    "model.summary()"
   ]
  },
  {
   "cell_type": "code",
   "execution_count": 15,
   "metadata": {},
   "outputs": [],
   "source": [
    "model.add(Dense(units=8,bias_initializer=\"zeros\",kernel_initializer=\"zeros\",activation=\"relu\",input_dim=8))"
   ]
  },
  {
   "cell_type": "code",
   "execution_count": 16,
   "metadata": {},
   "outputs": [],
   "source": [
    "model.add(Dense(units=8,bias_initializer=\"zeros\",kernel_initializer=\"zeros\",activation=\"relu\",input_dim=8))"
   ]
  },
  {
   "cell_type": "code",
   "execution_count": 17,
   "metadata": {},
   "outputs": [
    {
     "name": "stdout",
     "output_type": "stream",
     "text": [
      "Model: \"sequential\"\n",
      "_________________________________________________________________\n",
      "Layer (type)                 Output Shape              Param #   \n",
      "=================================================================\n",
      "dense (Dense)                (None, 10)                90        \n",
      "_________________________________________________________________\n",
      "dense_1 (Dense)              (None, 4)                 44        \n",
      "_________________________________________________________________\n",
      "dense_2 (Dense)              (None, 8)                 40        \n",
      "_________________________________________________________________\n",
      "dense_3 (Dense)              (None, 8)                 72        \n",
      "=================================================================\n",
      "Total params: 246\n",
      "Trainable params: 246\n",
      "Non-trainable params: 0\n",
      "_________________________________________________________________\n"
     ]
    }
   ],
   "source": [
    "model.summary()"
   ]
  },
  {
   "cell_type": "code",
   "execution_count": 18,
   "metadata": {},
   "outputs": [],
   "source": [
    "model.add(Dense(units=1,bias_initializer=\"zeros\",kernel_initializer=\"zeros\",activation=\"sigmoid\"))"
   ]
  },
  {
   "cell_type": "code",
   "execution_count": 19,
   "metadata": {},
   "outputs": [
    {
     "name": "stdout",
     "output_type": "stream",
     "text": [
      "Model: \"sequential\"\n",
      "_________________________________________________________________\n",
      "Layer (type)                 Output Shape              Param #   \n",
      "=================================================================\n",
      "dense (Dense)                (None, 10)                90        \n",
      "_________________________________________________________________\n",
      "dense_1 (Dense)              (None, 4)                 44        \n",
      "_________________________________________________________________\n",
      "dense_2 (Dense)              (None, 8)                 40        \n",
      "_________________________________________________________________\n",
      "dense_3 (Dense)              (None, 8)                 72        \n",
      "_________________________________________________________________\n",
      "dense_4 (Dense)              (None, 1)                 9         \n",
      "=================================================================\n",
      "Total params: 255\n",
      "Trainable params: 255\n",
      "Non-trainable params: 0\n",
      "_________________________________________________________________\n"
     ]
    }
   ],
   "source": [
    "model.summary()"
   ]
  },
  {
   "cell_type": "code",
   "execution_count": 20,
   "metadata": {},
   "outputs": [],
   "source": [
    "from keras.optimizers import Adam\n",
    "model.compile(optimizer=Adam(),loss=\"BinaryCrossentropy\")"
   ]
  },
  {
   "cell_type": "code",
   "execution_count": 21,
   "metadata": {},
   "outputs": [
    {
     "name": "stdout",
     "output_type": "stream",
     "text": [
      "Epoch 1/50\n",
      "24/24 [==============================] - 0s 2ms/step - loss: 0.6915\n",
      "Epoch 2/50\n",
      "24/24 [==============================] - 0s 2ms/step - loss: 0.6884\n",
      "Epoch 3/50\n",
      "24/24 [==============================] - 0s 1ms/step - loss: 0.6855\n",
      "Epoch 4/50\n",
      "24/24 [==============================] - 0s 1ms/step - loss: 0.6828\n",
      "Epoch 5/50\n",
      "24/24 [==============================] - 0s 2ms/step - loss: 0.6802\n",
      "Epoch 6/50\n",
      "24/24 [==============================] - 0s 1ms/step - loss: 0.6778\n",
      "Epoch 7/50\n",
      "24/24 [==============================] - 0s 1ms/step - loss: 0.6755\n",
      "Epoch 8/50\n",
      "24/24 [==============================] - 0s 1ms/step - loss: 0.6734\n",
      "Epoch 9/50\n",
      "24/24 [==============================] - 0s 1ms/step - loss: 0.6715\n",
      "Epoch 10/50\n",
      "24/24 [==============================] - 0s 2ms/step - loss: 0.6696\n",
      "Epoch 11/50\n",
      "24/24 [==============================] - 0s 1ms/step - loss: 0.6679\n",
      "Epoch 12/50\n",
      "24/24 [==============================] - 0s 1ms/step - loss: 0.6663\n",
      "Epoch 13/50\n",
      "24/24 [==============================] - 0s 1ms/step - loss: 0.6647\n",
      "Epoch 14/50\n",
      "24/24 [==============================] - 0s 1ms/step - loss: 0.6634\n",
      "Epoch 15/50\n",
      "24/24 [==============================] - 0s 1ms/step - loss: 0.6620\n",
      "Epoch 16/50\n",
      "24/24 [==============================] - 0s 1ms/step - loss: 0.6609\n",
      "Epoch 17/50\n",
      "24/24 [==============================] - 0s 1ms/step - loss: 0.6597\n",
      "Epoch 18/50\n",
      "24/24 [==============================] - 0s 1ms/step - loss: 0.6586\n",
      "Epoch 19/50\n",
      "24/24 [==============================] - 0s 1ms/step - loss: 0.6577\n",
      "Epoch 20/50\n",
      "24/24 [==============================] - 0s 2ms/step - loss: 0.6569\n",
      "Epoch 21/50\n",
      "24/24 [==============================] - 0s 1ms/step - loss: 0.6559\n",
      "Epoch 22/50\n",
      "24/24 [==============================] - 0s 1ms/step - loss: 0.6552\n",
      "Epoch 23/50\n",
      "24/24 [==============================] - 0s 1ms/step - loss: 0.6544\n",
      "Epoch 24/50\n",
      "24/24 [==============================] - 0s 1ms/step - loss: 0.6539\n",
      "Epoch 25/50\n",
      "24/24 [==============================] - 0s 1ms/step - loss: 0.6532\n",
      "Epoch 26/50\n",
      "24/24 [==============================] - 0s 1ms/step - loss: 0.6526\n",
      "Epoch 27/50\n",
      "24/24 [==============================] - 0s 1ms/step - loss: 0.6521\n",
      "Epoch 28/50\n",
      "24/24 [==============================] - 0s 1ms/step - loss: 0.6516\n",
      "Epoch 29/50\n",
      "24/24 [==============================] - 0s 1ms/step - loss: 0.6512\n",
      "Epoch 30/50\n",
      "24/24 [==============================] - 0s 1ms/step - loss: 0.6508\n",
      "Epoch 31/50\n",
      "24/24 [==============================] - 0s 1ms/step - loss: 0.6504\n",
      "Epoch 32/50\n",
      "24/24 [==============================] - 0s 1ms/step - loss: 0.6501\n",
      "Epoch 33/50\n",
      "24/24 [==============================] - 0s 1ms/step - loss: 0.6498\n",
      "Epoch 34/50\n",
      "24/24 [==============================] - 0s 2ms/step - loss: 0.6495\n",
      "Epoch 35/50\n",
      "24/24 [==============================] - 0s 2ms/step - loss: 0.6493\n",
      "Epoch 36/50\n",
      "24/24 [==============================] - 0s 2ms/step - loss: 0.6490\n",
      "Epoch 37/50\n",
      "24/24 [==============================] - 0s 1ms/step - loss: 0.6488\n",
      "Epoch 38/50\n",
      "24/24 [==============================] - 0s 1ms/step - loss: 0.6486\n",
      "Epoch 39/50\n",
      "24/24 [==============================] - 0s 1ms/step - loss: 0.6484\n",
      "Epoch 40/50\n",
      "24/24 [==============================] - 0s 1ms/step - loss: 0.6483\n",
      "Epoch 41/50\n",
      "24/24 [==============================] - 0s 1ms/step - loss: 0.6481\n",
      "Epoch 42/50\n",
      "24/24 [==============================] - 0s 2ms/step - loss: 0.6480\n",
      "Epoch 43/50\n",
      "24/24 [==============================] - 0s 1ms/step - loss: 0.6479\n",
      "Epoch 44/50\n",
      "24/24 [==============================] - 0s 1ms/step - loss: 0.6478\n",
      "Epoch 45/50\n",
      "24/24 [==============================] - 0s 2ms/step - loss: 0.6477\n",
      "Epoch 46/50\n",
      "24/24 [==============================] - 0s 1ms/step - loss: 0.6476\n",
      "Epoch 47/50\n",
      "24/24 [==============================] - 0s 1ms/step - loss: 0.6475\n",
      "Epoch 48/50\n",
      "24/24 [==============================] - 0s 1ms/step - loss: 0.6474\n",
      "Epoch 49/50\n",
      "24/24 [==============================] - 0s 1ms/step - loss: 0.6474\n",
      "Epoch 50/50\n",
      "24/24 [==============================] - 0s 1ms/step - loss: 0.6473\n"
     ]
    },
    {
     "data": {
      "text/plain": [
       "<tensorflow.python.keras.callbacks.History at 0x211415b1e80>"
      ]
     },
     "execution_count": 21,
     "metadata": {},
     "output_type": "execute_result"
    }
   ],
   "source": [
    "model.fit(X,y,epochs=50)"
   ]
  },
  {
   "cell_type": "code",
   "execution_count": 22,
   "metadata": {},
   "outputs": [],
   "source": [
    "l = pd.DataFrame(model.history.history)"
   ]
  },
  {
   "cell_type": "code",
   "execution_count": 23,
   "metadata": {},
   "outputs": [
    {
     "data": {
      "text/plain": [
       "<AxesSubplot:>"
      ]
     },
     "execution_count": 23,
     "metadata": {},
     "output_type": "execute_result"
    },
    {
     "data": {
      "image/png": "[encoded data removed]",
      "text/plain": [
       "<Figure size 432x288 with 1 Axes>"
      ]
     },
     "metadata": {
      "needs_background": "light"
     },
     "output_type": "display_data"
    }
   ],
   "source": [
    "l.plot()"
   ]
  },
  {
   "cell_type": "code",
   "execution_count": null,
   "metadata": {},
   "outputs": [],
   "source": []
  }
 ],
 "metadata": {
  "kernelspec": {
   "display_name": "Python 3",
   "language": "python",
   "name": "python3"
  },
  "language_info": {
   "codemirror_mode": {
    "name": "ipython",
    "version": 3
   },
   "file_extension": ".py",
   "mimetype": "text/x-python",
   "name": "python",
   "nbconvert_exporter": "python",
   "pygments_lexer": "ipython3",
   "version": "3.8.8"
  }
 },
 "nbformat": 4,
 "nbformat_minor": 4
}
